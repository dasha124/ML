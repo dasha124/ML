{
 "cells": [
  {
   "cell_type": "markdown",
   "id": "da038a87",
   "metadata": {},
   "source": [
    "# Лабораторная работа №2\n",
    "\n",
    "# Обработка пропусков в данных, кодирование категориальных признаков, масштабирование данных."
   ]
  },
  {
   "cell_type": "code",
   "execution_count": 1,
   "id": "1487f51c",
   "metadata": {},
   "outputs": [],
   "source": [
    "import numpy as np\n",
    "import pandas as pd\n",
    "import seaborn as sns\n",
    "import matplotlib.pyplot as plt\n",
    "%matplotlib inline \n",
    "sns.set(style=\"ticks\")"
   ]
  },
  {
   "cell_type": "markdown",
   "id": "ae13733d",
   "metadata": {},
   "source": [
    "## Описание набора данных \"Опрос американского сообщества\":\n",
    "Набор данных ACS предлагает детальное исследование социально-экономической динамики в Соединенных Штатах. С акцентом на доход, занятость, образование и демографию, он дает ценную информацию о гражданстве, языке, на котором говорят дома, семейном положении, инвалидности и квартале рождения».\n",
    "\n",
    "\n",
    "income: Годовой доход.\n",
    "employment: Статус занятости.\n",
    "hrs_work: Количество отработанных часов в неделю.\n",
    "race: Раса.\n",
    "age: Возраст в годах.\n",
    "gender: Пол.\n",
    "citizen: статус гражданства США.\n",
    "time_to_work: Время в пути на работу в минутах.\n",
    "lang: Язык, на котором говорят дома.\n",
    "married: Семейное положение.\n",
    "edu: Уровень образования.\n",
    "disability: Статус инвалидности.\n",
    "birth_qrtr: Четверть года рождения человека (например, с января по март).\n"
   ]
  },
  {
   "cell_type": "markdown",
   "id": "803ee6a3",
   "metadata": {},
   "source": [
    "## Загрузка и первичный анализ данных\n"
   ]
  },
  {
   "cell_type": "code",
   "execution_count": 2,
   "id": "a219ff2d",
   "metadata": {},
   "outputs": [],
   "source": [
    "data = pd.read_csv('acs.csv', sep=\",\")"
   ]
  },
  {
   "cell_type": "code",
   "execution_count": 3,
   "id": "ea97603b",
   "metadata": {},
   "outputs": [
    {
     "data": {
      "text/plain": [
       "(2000, 13)"
      ]
     },
     "execution_count": 3,
     "metadata": {},
     "output_type": "execute_result"
    }
   ],
   "source": [
    "data.shape"
   ]
  },
  {
   "cell_type": "code",
   "execution_count": 4,
   "id": "e9fbed26",
   "metadata": {},
   "outputs": [
    {
     "data": {
      "text/plain": [
       "income          float64\n",
       "employment       object\n",
       "hrs_work        float64\n",
       "race             object\n",
       "age               int64\n",
       "gender           object\n",
       "citizen          object\n",
       "time_to_work    float64\n",
       "lang             object\n",
       "married          object\n",
       "edu              object\n",
       "disability       object\n",
       "birth_qrtr       object\n",
       "dtype: object"
      ]
     },
     "execution_count": 4,
     "metadata": {},
     "output_type": "execute_result"
    }
   ],
   "source": [
    "# типы колонок\n",
    "data.dtypes"
   ]
  },
  {
   "cell_type": "code",
   "execution_count": 5,
   "id": "4c5d1881",
   "metadata": {},
   "outputs": [],
   "source": [
    "data.replace('NA', np.nan, inplace=True)"
   ]
  },
  {
   "cell_type": "code",
   "execution_count": 6,
   "id": "2eec70a2",
   "metadata": {},
   "outputs": [
    {
     "data": {
      "text/html": [
       "<div>\n",
       "<style scoped>\n",
       "    .dataframe tbody tr th:only-of-type {\n",
       "        vertical-align: middle;\n",
       "    }\n",
       "\n",
       "    .dataframe tbody tr th {\n",
       "        vertical-align: top;\n",
       "    }\n",
       "\n",
       "    .dataframe thead th {\n",
       "        text-align: right;\n",
       "    }\n",
       "</style>\n",
       "<table border=\"1\" class=\"dataframe\">\n",
       "  <thead>\n",
       "    <tr style=\"text-align: right;\">\n",
       "      <th></th>\n",
       "      <th>income</th>\n",
       "      <th>employment</th>\n",
       "      <th>hrs_work</th>\n",
       "      <th>race</th>\n",
       "      <th>age</th>\n",
       "      <th>gender</th>\n",
       "      <th>citizen</th>\n",
       "      <th>time_to_work</th>\n",
       "      <th>lang</th>\n",
       "      <th>married</th>\n",
       "      <th>edu</th>\n",
       "      <th>disability</th>\n",
       "      <th>birth_qrtr</th>\n",
       "    </tr>\n",
       "  </thead>\n",
       "  <tbody>\n",
       "    <tr>\n",
       "      <th>0</th>\n",
       "      <td>60000.0</td>\n",
       "      <td>not in labor force</td>\n",
       "      <td>40.0</td>\n",
       "      <td>white</td>\n",
       "      <td>68</td>\n",
       "      <td>female</td>\n",
       "      <td>yes</td>\n",
       "      <td>NaN</td>\n",
       "      <td>english</td>\n",
       "      <td>no</td>\n",
       "      <td>college</td>\n",
       "      <td>no</td>\n",
       "      <td>jul thru sep</td>\n",
       "    </tr>\n",
       "    <tr>\n",
       "      <th>1</th>\n",
       "      <td>0.0</td>\n",
       "      <td>not in labor force</td>\n",
       "      <td>NaN</td>\n",
       "      <td>white</td>\n",
       "      <td>88</td>\n",
       "      <td>male</td>\n",
       "      <td>yes</td>\n",
       "      <td>NaN</td>\n",
       "      <td>english</td>\n",
       "      <td>no</td>\n",
       "      <td>hs or lower</td>\n",
       "      <td>yes</td>\n",
       "      <td>jan thru mar</td>\n",
       "    </tr>\n",
       "    <tr>\n",
       "      <th>2</th>\n",
       "      <td>NaN</td>\n",
       "      <td>NaN</td>\n",
       "      <td>NaN</td>\n",
       "      <td>white</td>\n",
       "      <td>12</td>\n",
       "      <td>female</td>\n",
       "      <td>yes</td>\n",
       "      <td>NaN</td>\n",
       "      <td>english</td>\n",
       "      <td>no</td>\n",
       "      <td>hs or lower</td>\n",
       "      <td>no</td>\n",
       "      <td>oct thru dec</td>\n",
       "    </tr>\n",
       "    <tr>\n",
       "      <th>3</th>\n",
       "      <td>0.0</td>\n",
       "      <td>not in labor force</td>\n",
       "      <td>NaN</td>\n",
       "      <td>white</td>\n",
       "      <td>17</td>\n",
       "      <td>male</td>\n",
       "      <td>yes</td>\n",
       "      <td>NaN</td>\n",
       "      <td>other</td>\n",
       "      <td>no</td>\n",
       "      <td>hs or lower</td>\n",
       "      <td>no</td>\n",
       "      <td>oct thru dec</td>\n",
       "    </tr>\n",
       "    <tr>\n",
       "      <th>4</th>\n",
       "      <td>0.0</td>\n",
       "      <td>not in labor force</td>\n",
       "      <td>NaN</td>\n",
       "      <td>white</td>\n",
       "      <td>77</td>\n",
       "      <td>female</td>\n",
       "      <td>yes</td>\n",
       "      <td>NaN</td>\n",
       "      <td>other</td>\n",
       "      <td>no</td>\n",
       "      <td>hs or lower</td>\n",
       "      <td>yes</td>\n",
       "      <td>jul thru sep</td>\n",
       "    </tr>\n",
       "  </tbody>\n",
       "</table>\n",
       "</div>"
      ],
      "text/plain": [
       "    income          employment  hrs_work   race  age  gender citizen  \\\n",
       "0  60000.0  not in labor force      40.0  white   68  female     yes   \n",
       "1      0.0  not in labor force       NaN  white   88    male     yes   \n",
       "2      NaN                 NaN       NaN  white   12  female     yes   \n",
       "3      0.0  not in labor force       NaN  white   17    male     yes   \n",
       "4      0.0  not in labor force       NaN  white   77  female     yes   \n",
       "\n",
       "   time_to_work     lang married          edu disability    birth_qrtr  \n",
       "0           NaN  english      no      college         no  jul thru sep  \n",
       "1           NaN  english      no  hs or lower        yes  jan thru mar  \n",
       "2           NaN  english      no  hs or lower         no  oct thru dec  \n",
       "3           NaN    other      no  hs or lower         no  oct thru dec  \n",
       "4           NaN    other      no  hs or lower        yes  jul thru sep  "
      ]
     },
     "execution_count": 6,
     "metadata": {},
     "output_type": "execute_result"
    }
   ],
   "source": [
    "data.head(5)"
   ]
  },
  {
   "cell_type": "code",
   "execution_count": 7,
   "id": "073a3e00",
   "metadata": {},
   "outputs": [
    {
     "name": "stdout",
     "output_type": "stream",
     "text": [
      "income           377\n",
      "employment       395\n",
      "hrs_work        1041\n",
      "race               0\n",
      "age                0\n",
      "gender             0\n",
      "citizen            0\n",
      "time_to_work    1217\n",
      "lang             105\n",
      "married            0\n",
      "edu               58\n",
      "disability         0\n",
      "birth_qrtr         0\n",
      "dtype: int64\n"
     ]
    }
   ],
   "source": [
    "# кол-во пропущенные значений (тк нулевые значения в данном датасете - конкретное значения)\n",
    "nan_count = (data.isna().sum())\n",
    "print(nan_count)"
   ]
  },
  {
   "cell_type": "code",
   "execution_count": 8,
   "id": "59d8e510",
   "metadata": {},
   "outputs": [
    {
     "name": "stdout",
     "output_type": "stream",
     "text": [
      "Всего строк: 2000\n"
     ]
    }
   ],
   "source": [
    "total_cnt = data.shape[0]\n",
    "print('Всего строк: {}'.format(total_cnt))"
   ]
  },
  {
   "cell_type": "markdown",
   "id": "ebe6de78",
   "metadata": {},
   "source": [
    "## Обработка пропусков в данных"
   ]
  },
  {
   "cell_type": "code",
   "execution_count": 9,
   "id": "0f1a12cc",
   "metadata": {},
   "outputs": [
    {
     "data": {
      "text/html": [
       "<div>\n",
       "<style scoped>\n",
       "    .dataframe tbody tr th:only-of-type {\n",
       "        vertical-align: middle;\n",
       "    }\n",
       "\n",
       "    .dataframe tbody tr th {\n",
       "        vertical-align: top;\n",
       "    }\n",
       "\n",
       "    .dataframe thead th {\n",
       "        text-align: right;\n",
       "    }\n",
       "</style>\n",
       "<table border=\"1\" class=\"dataframe\">\n",
       "  <thead>\n",
       "    <tr style=\"text-align: right;\">\n",
       "      <th></th>\n",
       "      <th>income</th>\n",
       "      <th>employment</th>\n",
       "      <th>hrs_work</th>\n",
       "      <th>race</th>\n",
       "      <th>age</th>\n",
       "      <th>gender</th>\n",
       "      <th>citizen</th>\n",
       "      <th>time_to_work</th>\n",
       "      <th>lang</th>\n",
       "      <th>married</th>\n",
       "      <th>edu</th>\n",
       "      <th>disability</th>\n",
       "      <th>birth_qrtr</th>\n",
       "    </tr>\n",
       "  </thead>\n",
       "  <tbody>\n",
       "    <tr>\n",
       "      <th>0</th>\n",
       "      <td>60000.0</td>\n",
       "      <td>not in labor force</td>\n",
       "      <td>40.0</td>\n",
       "      <td>white</td>\n",
       "      <td>68</td>\n",
       "      <td>female</td>\n",
       "      <td>yes</td>\n",
       "      <td>NaN</td>\n",
       "      <td>english</td>\n",
       "      <td>no</td>\n",
       "      <td>college</td>\n",
       "      <td>no</td>\n",
       "      <td>jul thru sep</td>\n",
       "    </tr>\n",
       "    <tr>\n",
       "      <th>1</th>\n",
       "      <td>0.0</td>\n",
       "      <td>not in labor force</td>\n",
       "      <td>NaN</td>\n",
       "      <td>white</td>\n",
       "      <td>88</td>\n",
       "      <td>male</td>\n",
       "      <td>yes</td>\n",
       "      <td>NaN</td>\n",
       "      <td>english</td>\n",
       "      <td>no</td>\n",
       "      <td>hs or lower</td>\n",
       "      <td>yes</td>\n",
       "      <td>jan thru mar</td>\n",
       "    </tr>\n",
       "    <tr>\n",
       "      <th>2</th>\n",
       "      <td>NaN</td>\n",
       "      <td>NaN</td>\n",
       "      <td>NaN</td>\n",
       "      <td>white</td>\n",
       "      <td>12</td>\n",
       "      <td>female</td>\n",
       "      <td>yes</td>\n",
       "      <td>NaN</td>\n",
       "      <td>english</td>\n",
       "      <td>no</td>\n",
       "      <td>hs or lower</td>\n",
       "      <td>no</td>\n",
       "      <td>oct thru dec</td>\n",
       "    </tr>\n",
       "    <tr>\n",
       "      <th>3</th>\n",
       "      <td>0.0</td>\n",
       "      <td>not in labor force</td>\n",
       "      <td>NaN</td>\n",
       "      <td>white</td>\n",
       "      <td>17</td>\n",
       "      <td>male</td>\n",
       "      <td>yes</td>\n",
       "      <td>NaN</td>\n",
       "      <td>other</td>\n",
       "      <td>no</td>\n",
       "      <td>hs or lower</td>\n",
       "      <td>no</td>\n",
       "      <td>oct thru dec</td>\n",
       "    </tr>\n",
       "    <tr>\n",
       "      <th>4</th>\n",
       "      <td>0.0</td>\n",
       "      <td>not in labor force</td>\n",
       "      <td>NaN</td>\n",
       "      <td>white</td>\n",
       "      <td>77</td>\n",
       "      <td>female</td>\n",
       "      <td>yes</td>\n",
       "      <td>NaN</td>\n",
       "      <td>other</td>\n",
       "      <td>no</td>\n",
       "      <td>hs or lower</td>\n",
       "      <td>yes</td>\n",
       "      <td>jul thru sep</td>\n",
       "    </tr>\n",
       "    <tr>\n",
       "      <th>5</th>\n",
       "      <td>1700.0</td>\n",
       "      <td>employed</td>\n",
       "      <td>40.0</td>\n",
       "      <td>other</td>\n",
       "      <td>35</td>\n",
       "      <td>female</td>\n",
       "      <td>yes</td>\n",
       "      <td>15.0</td>\n",
       "      <td>other</td>\n",
       "      <td>yes</td>\n",
       "      <td>hs or lower</td>\n",
       "      <td>yes</td>\n",
       "      <td>jul thru sep</td>\n",
       "    </tr>\n",
       "    <tr>\n",
       "      <th>6</th>\n",
       "      <td>NaN</td>\n",
       "      <td>NaN</td>\n",
       "      <td>NaN</td>\n",
       "      <td>white</td>\n",
       "      <td>11</td>\n",
       "      <td>male</td>\n",
       "      <td>yes</td>\n",
       "      <td>NaN</td>\n",
       "      <td>english</td>\n",
       "      <td>no</td>\n",
       "      <td>hs or lower</td>\n",
       "      <td>no</td>\n",
       "      <td>oct thru dec</td>\n",
       "    </tr>\n",
       "    <tr>\n",
       "      <th>7</th>\n",
       "      <td>NaN</td>\n",
       "      <td>NaN</td>\n",
       "      <td>NaN</td>\n",
       "      <td>other</td>\n",
       "      <td>7</td>\n",
       "      <td>male</td>\n",
       "      <td>yes</td>\n",
       "      <td>NaN</td>\n",
       "      <td>english</td>\n",
       "      <td>no</td>\n",
       "      <td>hs or lower</td>\n",
       "      <td>yes</td>\n",
       "      <td>jul thru sep</td>\n",
       "    </tr>\n",
       "    <tr>\n",
       "      <th>8</th>\n",
       "      <td>NaN</td>\n",
       "      <td>NaN</td>\n",
       "      <td>NaN</td>\n",
       "      <td>asian</td>\n",
       "      <td>6</td>\n",
       "      <td>male</td>\n",
       "      <td>yes</td>\n",
       "      <td>NaN</td>\n",
       "      <td>other</td>\n",
       "      <td>no</td>\n",
       "      <td>hs or lower</td>\n",
       "      <td>no</td>\n",
       "      <td>jan thru mar</td>\n",
       "    </tr>\n",
       "    <tr>\n",
       "      <th>9</th>\n",
       "      <td>45000.0</td>\n",
       "      <td>employed</td>\n",
       "      <td>84.0</td>\n",
       "      <td>white</td>\n",
       "      <td>27</td>\n",
       "      <td>male</td>\n",
       "      <td>yes</td>\n",
       "      <td>40.0</td>\n",
       "      <td>english</td>\n",
       "      <td>yes</td>\n",
       "      <td>hs or lower</td>\n",
       "      <td>no</td>\n",
       "      <td>oct thru dec</td>\n",
       "    </tr>\n",
       "  </tbody>\n",
       "</table>\n",
       "</div>"
      ],
      "text/plain": [
       "    income          employment  hrs_work   race  age  gender citizen  \\\n",
       "0  60000.0  not in labor force      40.0  white   68  female     yes   \n",
       "1      0.0  not in labor force       NaN  white   88    male     yes   \n",
       "2      NaN                 NaN       NaN  white   12  female     yes   \n",
       "3      0.0  not in labor force       NaN  white   17    male     yes   \n",
       "4      0.0  not in labor force       NaN  white   77  female     yes   \n",
       "5   1700.0            employed      40.0  other   35  female     yes   \n",
       "6      NaN                 NaN       NaN  white   11    male     yes   \n",
       "7      NaN                 NaN       NaN  other    7    male     yes   \n",
       "8      NaN                 NaN       NaN  asian    6    male     yes   \n",
       "9  45000.0            employed      84.0  white   27    male     yes   \n",
       "\n",
       "   time_to_work     lang married          edu disability    birth_qrtr  \n",
       "0           NaN  english      no      college         no  jul thru sep  \n",
       "1           NaN  english      no  hs or lower        yes  jan thru mar  \n",
       "2           NaN  english      no  hs or lower         no  oct thru dec  \n",
       "3           NaN    other      no  hs or lower         no  oct thru dec  \n",
       "4           NaN    other      no  hs or lower        yes  jul thru sep  \n",
       "5          15.0    other     yes  hs or lower        yes  jul thru sep  \n",
       "6           NaN  english      no  hs or lower         no  oct thru dec  \n",
       "7           NaN  english      no  hs or lower        yes  jul thru sep  \n",
       "8           NaN    other      no  hs or lower         no  jan thru mar  \n",
       "9          40.0  english     yes  hs or lower         no  oct thru dec  "
      ]
     },
     "execution_count": 9,
     "metadata": {},
     "output_type": "execute_result"
    }
   ],
   "source": [
    "data.head(10)"
   ]
  },
  {
   "cell_type": "code",
   "execution_count": 10,
   "id": "9c45cecf",
   "metadata": {},
   "outputs": [
    {
     "data": {
      "text/plain": [
       "((2000, 13), (2000, 7))"
      ]
     },
     "execution_count": 10,
     "metadata": {},
     "output_type": "execute_result"
    }
   ],
   "source": [
    "# Удаление колонок, содержащих пустые значения\n",
    "data_new_1 = data.dropna(axis=1, how='any')\n",
    "(data.shape, data_new_1.shape)"
   ]
  },
  {
   "cell_type": "code",
   "execution_count": 11,
   "id": "5a45a381",
   "metadata": {},
   "outputs": [
    {
     "data": {
      "text/plain": [
       "((2000, 13), (783, 13))"
      ]
     },
     "execution_count": 11,
     "metadata": {},
     "output_type": "execute_result"
    }
   ],
   "source": [
    "# Удаление строк, содержащих пустые значения\n",
    "data_new_2 = data.dropna(axis=0, how='any')\n",
    "(data.shape, data_new_2.shape)"
   ]
  },
  {
   "cell_type": "code",
   "execution_count": 12,
   "id": "9a3751d1",
   "metadata": {},
   "outputs": [
    {
     "name": "stdout",
     "output_type": "stream",
     "text": [
      "      income          employment  hrs_work   race  age  gender citizen  \\\n",
      "39       NaN                 NaN       NaN  black    3  female     yes   \n",
      "40       0.0  not in labor force       NaN  white   63  female     yes   \n",
      "41   19000.0            employed      70.0  white   28    male     yes   \n",
      "42   50000.0            employed      45.0  asian   48    male     yes   \n",
      "43   85000.0            employed      50.0  white   33    male     yes   \n",
      "44  100000.0            employed      40.0  white   27    male     yes   \n",
      "\n",
      "    time_to_work     lang married          edu disability    birth_qrtr  \n",
      "39           NaN      NaN      no  hs or lower         no  apr thru jun  \n",
      "40           NaN  english     yes  hs or lower         no  oct thru dec  \n",
      "41           3.0    other     yes  hs or lower         no  jan thru mar  \n",
      "42          40.0  english     yes         grad         no  jul thru sep  \n",
      "43          65.0  english     yes      college         no  jan thru mar  \n",
      "44          45.0  english     yes      college         no  jan thru mar  \n"
     ]
    }
   ],
   "source": [
    "# Заполнение всех пропущенных значений нулями\n",
    "# В данном случае это некорректно,\n",
    "# так как нулями заполняются в том числе категориальные признаки\n",
    "# (напр, lang), см. 39 строку датасета\n",
    "print(data[39:45])"
   ]
  },
  {
   "cell_type": "code",
   "execution_count": 13,
   "id": "20d922d8",
   "metadata": {},
   "outputs": [
    {
     "name": "stdout",
     "output_type": "stream",
     "text": [
      "      income          employment  hrs_work   race  age  gender citizen  \\\n",
      "39       0.0                   0       0.0  black    3  female     yes   \n",
      "40       0.0  not in labor force       0.0  white   63  female     yes   \n",
      "41   19000.0            employed      70.0  white   28    male     yes   \n",
      "42   50000.0            employed      45.0  asian   48    male     yes   \n",
      "43   85000.0            employed      50.0  white   33    male     yes   \n",
      "44  100000.0            employed      40.0  white   27    male     yes   \n",
      "\n",
      "    time_to_work     lang married          edu disability    birth_qrtr  \n",
      "39           0.0        0      no  hs or lower         no  apr thru jun  \n",
      "40           0.0  english     yes  hs or lower         no  oct thru dec  \n",
      "41           3.0    other     yes  hs or lower         no  jan thru mar  \n",
      "42          40.0  english     yes         grad         no  jul thru sep  \n",
      "43          65.0  english     yes      college         no  jan thru mar  \n",
      "44          45.0  english     yes      college         no  jan thru mar  \n"
     ]
    }
   ],
   "source": [
    "data_new_3 = data.fillna(0)\n",
    "print(data_new_3[39:45])"
   ]
  },
  {
   "cell_type": "markdown",
   "id": "4c971570",
   "metadata": {},
   "source": [
    "## \"Внедрение значений\" - импьютация (imputation)"
   ]
  },
  {
   "cell_type": "markdown",
   "id": "69393f42",
   "metadata": {},
   "source": [
    "### Обработка пропусков в числовых данных"
   ]
  },
  {
   "cell_type": "code",
   "execution_count": 14,
   "id": "6a941acc",
   "metadata": {},
   "outputs": [
    {
     "name": "stdout",
     "output_type": "stream",
     "text": [
      "Колонка income. Тип данных float64. Количество пустых значений 377, 18.85%.\n",
      "Колонка hrs_work. Тип данных float64. Количество пустых значений 1041, 52.05%.\n",
      "Колонка time_to_work. Тип данных float64. Количество пустых значений 1217, 60.85%.\n"
     ]
    }
   ],
   "source": [
    "# Выберем числовые колнки с пропущенными значениями\n",
    "num_cols = []\n",
    "for col in data.columns:\n",
    "    # кол-во пустых значений\n",
    "    null_cnt = data[data[col].isna()].shape[0]\n",
    "    dt = str(data[col].dtype)\n",
    "    if null_cnt>0 and (dt=='float64' or dt=='int64'):\n",
    "        num_cols.append(col)\n",
    "        perc = round((null_cnt / data.shape[0])*100.0, 2)\n",
    "        print('Колонка {}. Тип данных {}. Количество пустых значений {}, {}%.'.format(col, dt, null_cnt, perc))"
   ]
  },
  {
   "cell_type": "code",
   "execution_count": 15,
   "id": "416dfeea",
   "metadata": {},
   "outputs": [
    {
     "data": {
      "text/html": [
       "<div>\n",
       "<style scoped>\n",
       "    .dataframe tbody tr th:only-of-type {\n",
       "        vertical-align: middle;\n",
       "    }\n",
       "\n",
       "    .dataframe tbody tr th {\n",
       "        vertical-align: top;\n",
       "    }\n",
       "\n",
       "    .dataframe thead th {\n",
       "        text-align: right;\n",
       "    }\n",
       "</style>\n",
       "<table border=\"1\" class=\"dataframe\">\n",
       "  <thead>\n",
       "    <tr style=\"text-align: right;\">\n",
       "      <th></th>\n",
       "      <th>income</th>\n",
       "      <th>hrs_work</th>\n",
       "      <th>time_to_work</th>\n",
       "    </tr>\n",
       "  </thead>\n",
       "  <tbody>\n",
       "    <tr>\n",
       "      <th>0</th>\n",
       "      <td>60000.0</td>\n",
       "      <td>40.0</td>\n",
       "      <td>NaN</td>\n",
       "    </tr>\n",
       "    <tr>\n",
       "      <th>1</th>\n",
       "      <td>0.0</td>\n",
       "      <td>NaN</td>\n",
       "      <td>NaN</td>\n",
       "    </tr>\n",
       "    <tr>\n",
       "      <th>2</th>\n",
       "      <td>NaN</td>\n",
       "      <td>NaN</td>\n",
       "      <td>NaN</td>\n",
       "    </tr>\n",
       "    <tr>\n",
       "      <th>3</th>\n",
       "      <td>0.0</td>\n",
       "      <td>NaN</td>\n",
       "      <td>NaN</td>\n",
       "    </tr>\n",
       "    <tr>\n",
       "      <th>4</th>\n",
       "      <td>0.0</td>\n",
       "      <td>NaN</td>\n",
       "      <td>NaN</td>\n",
       "    </tr>\n",
       "    <tr>\n",
       "      <th>...</th>\n",
       "      <td>...</td>\n",
       "      <td>...</td>\n",
       "      <td>...</td>\n",
       "    </tr>\n",
       "    <tr>\n",
       "      <th>1995</th>\n",
       "      <td>0.0</td>\n",
       "      <td>NaN</td>\n",
       "      <td>NaN</td>\n",
       "    </tr>\n",
       "    <tr>\n",
       "      <th>1996</th>\n",
       "      <td>0.0</td>\n",
       "      <td>NaN</td>\n",
       "      <td>NaN</td>\n",
       "    </tr>\n",
       "    <tr>\n",
       "      <th>1997</th>\n",
       "      <td>70000.0</td>\n",
       "      <td>40.0</td>\n",
       "      <td>30.0</td>\n",
       "    </tr>\n",
       "    <tr>\n",
       "      <th>1998</th>\n",
       "      <td>105000.0</td>\n",
       "      <td>50.0</td>\n",
       "      <td>30.0</td>\n",
       "    </tr>\n",
       "    <tr>\n",
       "      <th>1999</th>\n",
       "      <td>0.0</td>\n",
       "      <td>NaN</td>\n",
       "      <td>NaN</td>\n",
       "    </tr>\n",
       "  </tbody>\n",
       "</table>\n",
       "<p>2000 rows × 3 columns</p>\n",
       "</div>"
      ],
      "text/plain": [
       "        income  hrs_work  time_to_work\n",
       "0      60000.0      40.0           NaN\n",
       "1          0.0       NaN           NaN\n",
       "2          NaN       NaN           NaN\n",
       "3          0.0       NaN           NaN\n",
       "4          0.0       NaN           NaN\n",
       "...        ...       ...           ...\n",
       "1995       0.0       NaN           NaN\n",
       "1996       0.0       NaN           NaN\n",
       "1997   70000.0      40.0          30.0\n",
       "1998  105000.0      50.0          30.0\n",
       "1999       0.0       NaN           NaN\n",
       "\n",
       "[2000 rows x 3 columns]"
      ]
     },
     "execution_count": 15,
     "metadata": {},
     "output_type": "execute_result"
    }
   ],
   "source": [
    "# Фильтр по колонкам с пропущенными значениями\n",
    "data_num = data[num_cols]\n",
    "data_num"
   ]
  },
  {
   "cell_type": "code",
   "execution_count": 16,
   "id": "f9e16a77",
   "metadata": {},
   "outputs": [
    {
     "data": {
      "image/png": "[encoded data removed]",
      "text/plain": [
       "<Figure size 640x480 with 1 Axes>"
      ]
     },
     "metadata": {},
     "output_type": "display_data"
    },
    {
     "data": {
      "image/png": "[encoded data removed]",
      "text/plain": [
       "<Figure size 640x480 with 1 Axes>"
      ]
     },
     "metadata": {},
     "output_type": "display_data"
    },
    {
     "data": {
      "image/png": "[encoded data removed]",
      "text/plain": [
       "<Figure size 640x480 with 1 Axes>"
      ]
     },
     "metadata": {},
     "output_type": "display_data"
    }
   ],
   "source": [
    "# Гистограмма по признакам\n",
    "for col in data_num:\n",
    "    plt.hist(data[col], 50)\n",
    "    plt.xlabel(col)\n",
    "    plt.show()"
   ]
  },
  {
   "cell_type": "code",
   "execution_count": 17,
   "id": "824b7f77",
   "metadata": {},
   "outputs": [],
   "source": [
    "from sklearn.impute import SimpleImputer\n",
    "from sklearn.impute import MissingIndicator"
   ]
  },
  {
   "cell_type": "code",
   "execution_count": 18,
   "id": "8b04d1e8",
   "metadata": {},
   "outputs": [
    {
     "data": {
      "text/html": [
       "<div>\n",
       "<style scoped>\n",
       "    .dataframe tbody tr th:only-of-type {\n",
       "        vertical-align: middle;\n",
       "    }\n",
       "\n",
       "    .dataframe tbody tr th {\n",
       "        vertical-align: top;\n",
       "    }\n",
       "\n",
       "    .dataframe thead th {\n",
       "        text-align: right;\n",
       "    }\n",
       "</style>\n",
       "<table border=\"1\" class=\"dataframe\">\n",
       "  <thead>\n",
       "    <tr style=\"text-align: right;\">\n",
       "      <th></th>\n",
       "      <th>income</th>\n",
       "    </tr>\n",
       "  </thead>\n",
       "  <tbody>\n",
       "    <tr>\n",
       "      <th>0</th>\n",
       "      <td>60000.0</td>\n",
       "    </tr>\n",
       "    <tr>\n",
       "      <th>1</th>\n",
       "      <td>0.0</td>\n",
       "    </tr>\n",
       "    <tr>\n",
       "      <th>2</th>\n",
       "      <td>NaN</td>\n",
       "    </tr>\n",
       "    <tr>\n",
       "      <th>3</th>\n",
       "      <td>0.0</td>\n",
       "    </tr>\n",
       "    <tr>\n",
       "      <th>4</th>\n",
       "      <td>0.0</td>\n",
       "    </tr>\n",
       "  </tbody>\n",
       "</table>\n",
       "</div>"
      ],
      "text/plain": [
       "    income\n",
       "0  60000.0\n",
       "1      0.0\n",
       "2      NaN\n",
       "3      0.0\n",
       "4      0.0"
      ]
     },
     "execution_count": 18,
     "metadata": {},
     "output_type": "execute_result"
    }
   ],
   "source": [
    "data_num_income = data_num[['income']]\n",
    "data_num_income.head(5)"
   ]
  },
  {
   "cell_type": "code",
   "execution_count": 19,
   "id": "722fb463",
   "metadata": {},
   "outputs": [
    {
     "data": {
      "text/plain": [
       "array([[False],\n",
       "       [False],\n",
       "       [ True],\n",
       "       ...,\n",
       "       [False],\n",
       "       [False],\n",
       "       [False]])"
      ]
     },
     "execution_count": 19,
     "metadata": {},
     "output_type": "execute_result"
    }
   ],
   "source": [
    "# Фильтр для проверки заполнения пустых значений\n",
    "indicators = MissingIndicator()\n",
    "mask_missing_values_only = indicators.fit_transform(data_num_income)\n",
    "mask_missing_values_only"
   ]
  },
  {
   "cell_type": "code",
   "execution_count": 20,
   "id": "3eb035c5",
   "metadata": {},
   "outputs": [],
   "source": [
    "strategies=['mean', 'median', 'most_frequent']"
   ]
  },
  {
   "cell_type": "code",
   "execution_count": 21,
   "id": "354e8f64",
   "metadata": {},
   "outputs": [],
   "source": [
    "def test_num_inpute(strategy_param):\n",
    "    imp_num = SimpleImputer(strategy=strategy_param)\n",
    "    data_num_imp = imp_num.fit_transform(data_num_income)\n",
    "    return data_num_imp[mask_missing_values_only]"
   ]
  },
  {
   "cell_type": "code",
   "execution_count": 22,
   "id": "bc859fcf",
   "metadata": {},
   "outputs": [
    {
     "data": {
      "text/plain": [
       "('mean',\n",
       " array([23599.98151571, 23599.98151571, 23599.98151571, 23599.98151571,\n",
       "        23599.98151571, 23599.98151571, 23599.98151571, 23599.98151571,\n",
       "        23599.98151571, 23599.98151571, 23599.98151571, 23599.98151571,\n",
       "        23599.98151571, 23599.98151571, 23599.98151571, 23599.98151571,\n",
       "        23599.98151571, 23599.98151571, 23599.98151571, 23599.98151571,\n",
       "        23599.98151571, 23599.98151571, 23599.98151571, 23599.98151571,\n",
       "        23599.98151571, 23599.98151571, 23599.98151571, 23599.98151571,\n",
       "        23599.98151571, 23599.98151571, 23599.98151571, 23599.98151571,\n",
       "        23599.98151571, 23599.98151571, 23599.98151571, 23599.98151571,\n",
       "        23599.98151571, 23599.98151571, 23599.98151571, 23599.98151571,\n",
       "        23599.98151571, 23599.98151571, 23599.98151571, 23599.98151571,\n",
       "        23599.98151571, 23599.98151571, 23599.98151571, 23599.98151571,\n",
       "        23599.98151571, 23599.98151571, 23599.98151571, 23599.98151571,\n",
       "        23599.98151571, 23599.98151571, 23599.98151571, 23599.98151571,\n",
       "        23599.98151571, 23599.98151571, 23599.98151571, 23599.98151571,\n",
       "        23599.98151571, 23599.98151571, 23599.98151571, 23599.98151571,\n",
       "        23599.98151571, 23599.98151571, 23599.98151571, 23599.98151571,\n",
       "        23599.98151571, 23599.98151571, 23599.98151571, 23599.98151571,\n",
       "        23599.98151571, 23599.98151571, 23599.98151571, 23599.98151571,\n",
       "        23599.98151571, 23599.98151571, 23599.98151571, 23599.98151571,\n",
       "        23599.98151571, 23599.98151571, 23599.98151571, 23599.98151571,\n",
       "        23599.98151571, 23599.98151571, 23599.98151571, 23599.98151571,\n",
       "        23599.98151571, 23599.98151571, 23599.98151571, 23599.98151571,\n",
       "        23599.98151571, 23599.98151571, 23599.98151571, 23599.98151571,\n",
       "        23599.98151571, 23599.98151571, 23599.98151571, 23599.98151571,\n",
       "        23599.98151571, 23599.98151571, 23599.98151571, 23599.98151571,\n",
       "        23599.98151571, 23599.98151571, 23599.98151571, 23599.98151571,\n",
       "        23599.98151571, 23599.98151571, 23599.98151571, 23599.98151571,\n",
       "        23599.98151571, 23599.98151571, 23599.98151571, 23599.98151571,\n",
       "        23599.98151571, 23599.98151571, 23599.98151571, 23599.98151571,\n",
       "        23599.98151571, 23599.98151571, 23599.98151571, 23599.98151571,\n",
       "        23599.98151571, 23599.98151571, 23599.98151571, 23599.98151571,\n",
       "        23599.98151571, 23599.98151571, 23599.98151571, 23599.98151571,\n",
       "        23599.98151571, 23599.98151571, 23599.98151571, 23599.98151571,\n",
       "        23599.98151571, 23599.98151571, 23599.98151571, 23599.98151571,\n",
       "        23599.98151571, 23599.98151571, 23599.98151571, 23599.98151571,\n",
       "        23599.98151571, 23599.98151571, 23599.98151571, 23599.98151571,\n",
       "        23599.98151571, 23599.98151571, 23599.98151571, 23599.98151571,\n",
       "        23599.98151571, 23599.98151571, 23599.98151571, 23599.98151571,\n",
       "        23599.98151571, 23599.98151571, 23599.98151571, 23599.98151571,\n",
       "        23599.98151571, 23599.98151571, 23599.98151571, 23599.98151571,\n",
       "        23599.98151571, 23599.98151571, 23599.98151571, 23599.98151571,\n",
       "        23599.98151571, 23599.98151571, 23599.98151571, 23599.98151571,\n",
       "        23599.98151571, 23599.98151571, 23599.98151571, 23599.98151571,\n",
       "        23599.98151571, 23599.98151571, 23599.98151571, 23599.98151571,\n",
       "        23599.98151571, 23599.98151571, 23599.98151571, 23599.98151571,\n",
       "        23599.98151571, 23599.98151571, 23599.98151571, 23599.98151571,\n",
       "        23599.98151571, 23599.98151571, 23599.98151571, 23599.98151571,\n",
       "        23599.98151571, 23599.98151571, 23599.98151571, 23599.98151571,\n",
       "        23599.98151571, 23599.98151571, 23599.98151571, 23599.98151571,\n",
       "        23599.98151571, 23599.98151571, 23599.98151571, 23599.98151571,\n",
       "        23599.98151571, 23599.98151571, 23599.98151571, 23599.98151571,\n",
       "        23599.98151571, 23599.98151571, 23599.98151571, 23599.98151571,\n",
       "        23599.98151571, 23599.98151571, 23599.98151571, 23599.98151571,\n",
       "        23599.98151571, 23599.98151571, 23599.98151571, 23599.98151571,\n",
       "        23599.98151571, 23599.98151571, 23599.98151571, 23599.98151571,\n",
       "        23599.98151571, 23599.98151571, 23599.98151571, 23599.98151571,\n",
       "        23599.98151571, 23599.98151571, 23599.98151571, 23599.98151571,\n",
       "        23599.98151571, 23599.98151571, 23599.98151571, 23599.98151571,\n",
       "        23599.98151571, 23599.98151571, 23599.98151571, 23599.98151571,\n",
       "        23599.98151571, 23599.98151571, 23599.98151571, 23599.98151571,\n",
       "        23599.98151571, 23599.98151571, 23599.98151571, 23599.98151571,\n",
       "        23599.98151571, 23599.98151571, 23599.98151571, 23599.98151571,\n",
       "        23599.98151571, 23599.98151571, 23599.98151571, 23599.98151571,\n",
       "        23599.98151571, 23599.98151571, 23599.98151571, 23599.98151571,\n",
       "        23599.98151571, 23599.98151571, 23599.98151571, 23599.98151571,\n",
       "        23599.98151571, 23599.98151571, 23599.98151571, 23599.98151571,\n",
       "        23599.98151571, 23599.98151571, 23599.98151571, 23599.98151571,\n",
       "        23599.98151571, 23599.98151571, 23599.98151571, 23599.98151571,\n",
       "        23599.98151571, 23599.98151571, 23599.98151571, 23599.98151571,\n",
       "        23599.98151571, 23599.98151571, 23599.98151571, 23599.98151571,\n",
       "        23599.98151571, 23599.98151571, 23599.98151571, 23599.98151571,\n",
       "        23599.98151571, 23599.98151571, 23599.98151571, 23599.98151571,\n",
       "        23599.98151571, 23599.98151571, 23599.98151571, 23599.98151571,\n",
       "        23599.98151571, 23599.98151571, 23599.98151571, 23599.98151571,\n",
       "        23599.98151571, 23599.98151571, 23599.98151571, 23599.98151571,\n",
       "        23599.98151571, 23599.98151571, 23599.98151571, 23599.98151571,\n",
       "        23599.98151571, 23599.98151571, 23599.98151571, 23599.98151571,\n",
       "        23599.98151571, 23599.98151571, 23599.98151571, 23599.98151571,\n",
       "        23599.98151571, 23599.98151571, 23599.98151571, 23599.98151571,\n",
       "        23599.98151571, 23599.98151571, 23599.98151571, 23599.98151571,\n",
       "        23599.98151571, 23599.98151571, 23599.98151571, 23599.98151571,\n",
       "        23599.98151571, 23599.98151571, 23599.98151571, 23599.98151571,\n",
       "        23599.98151571, 23599.98151571, 23599.98151571, 23599.98151571,\n",
       "        23599.98151571, 23599.98151571, 23599.98151571, 23599.98151571,\n",
       "        23599.98151571, 23599.98151571, 23599.98151571, 23599.98151571,\n",
       "        23599.98151571, 23599.98151571, 23599.98151571, 23599.98151571,\n",
       "        23599.98151571, 23599.98151571, 23599.98151571, 23599.98151571,\n",
       "        23599.98151571, 23599.98151571, 23599.98151571, 23599.98151571,\n",
       "        23599.98151571, 23599.98151571, 23599.98151571, 23599.98151571,\n",
       "        23599.98151571, 23599.98151571, 23599.98151571, 23599.98151571,\n",
       "        23599.98151571, 23599.98151571, 23599.98151571, 23599.98151571,\n",
       "        23599.98151571, 23599.98151571, 23599.98151571, 23599.98151571,\n",
       "        23599.98151571, 23599.98151571, 23599.98151571, 23599.98151571,\n",
       "        23599.98151571]))"
      ]
     },
     "execution_count": 22,
     "metadata": {},
     "output_type": "execute_result"
    }
   ],
   "source": [
    "strategies[0], test_num_inpute(strategies[0])"
   ]
  },
  {
   "cell_type": "code",
   "execution_count": 23,
   "id": "4b3d5e82",
   "metadata": {},
   "outputs": [
    {
     "name": "stdout",
     "output_type": "stream",
     "text": [
      "    income\n",
      "0  60000.0\n",
      "1      0.0\n",
      "2      NaN\n",
      "3      0.0\n",
      "4      0.0\n",
      "---------------------------------------------------\n",
      "    income\n",
      "0  60000.0\n",
      "1      0.0\n",
      "2      NaN\n",
      "3      0.0\n",
      "4      0.0\n"
     ]
    }
   ],
   "source": [
    "# импьютация по \"mean\"\n",
    "data_num_income_1 = data_num[['income']]\n",
    "data_num_1 = data_num\n",
    "\n",
    "imputer = SimpleImputer(strategy='mean')\n",
    "data_num_1 = imputer.fit_transform(data_num_income_1)\n",
    "print(data_num_income.head(5))\n",
    "print(\"---------------------------------------------------\")\n",
    "print(data_num_income_1.head(5))"
   ]
  },
  {
   "cell_type": "code",
   "execution_count": 24,
   "id": "3696d8e6",
   "metadata": {},
   "outputs": [
    {
     "data": {
      "text/plain": [
       "('median',\n",
       " array([3000., 3000., 3000., 3000., 3000., 3000., 3000., 3000., 3000.,\n",
       "        3000., 3000., 3000., 3000., 3000., 3000., 3000., 3000., 3000.,\n",
       "        3000., 3000., 3000., 3000., 3000., 3000., 3000., 3000., 3000.,\n",
       "        3000., 3000., 3000., 3000., 3000., 3000., 3000., 3000., 3000.,\n",
       "        3000., 3000., 3000., 3000., 3000., 3000., 3000., 3000., 3000.,\n",
       "        3000., 3000., 3000., 3000., 3000., 3000., 3000., 3000., 3000.,\n",
       "        3000., 3000., 3000., 3000., 3000., 3000., 3000., 3000., 3000.,\n",
       "        3000., 3000., 3000., 3000., 3000., 3000., 3000., 3000., 3000.,\n",
       "        3000., 3000., 3000., 3000., 3000., 3000., 3000., 3000., 3000.,\n",
       "        3000., 3000., 3000., 3000., 3000., 3000., 3000., 3000., 3000.,\n",
       "        3000., 3000., 3000., 3000., 3000., 3000., 3000., 3000., 3000.,\n",
       "        3000., 3000., 3000., 3000., 3000., 3000., 3000., 3000., 3000.,\n",
       "        3000., 3000., 3000., 3000., 3000., 3000., 3000., 3000., 3000.,\n",
       "        3000., 3000., 3000., 3000., 3000., 3000., 3000., 3000., 3000.,\n",
       "        3000., 3000., 3000., 3000., 3000., 3000., 3000., 3000., 3000.,\n",
       "        3000., 3000., 3000., 3000., 3000., 3000., 3000., 3000., 3000.,\n",
       "        3000., 3000., 3000., 3000., 3000., 3000., 3000., 3000., 3000.,\n",
       "        3000., 3000., 3000., 3000., 3000., 3000., 3000., 3000., 3000.,\n",
       "        3000., 3000., 3000., 3000., 3000., 3000., 3000., 3000., 3000.,\n",
       "        3000., 3000., 3000., 3000., 3000., 3000., 3000., 3000., 3000.,\n",
       "        3000., 3000., 3000., 3000., 3000., 3000., 3000., 3000., 3000.,\n",
       "        3000., 3000., 3000., 3000., 3000., 3000., 3000., 3000., 3000.,\n",
       "        3000., 3000., 3000., 3000., 3000., 3000., 3000., 3000., 3000.,\n",
       "        3000., 3000., 3000., 3000., 3000., 3000., 3000., 3000., 3000.,\n",
       "        3000., 3000., 3000., 3000., 3000., 3000., 3000., 3000., 3000.,\n",
       "        3000., 3000., 3000., 3000., 3000., 3000., 3000., 3000., 3000.,\n",
       "        3000., 3000., 3000., 3000., 3000., 3000., 3000., 3000., 3000.,\n",
       "        3000., 3000., 3000., 3000., 3000., 3000., 3000., 3000., 3000.,\n",
       "        3000., 3000., 3000., 3000., 3000., 3000., 3000., 3000., 3000.,\n",
       "        3000., 3000., 3000., 3000., 3000., 3000., 3000., 3000., 3000.,\n",
       "        3000., 3000., 3000., 3000., 3000., 3000., 3000., 3000., 3000.,\n",
       "        3000., 3000., 3000., 3000., 3000., 3000., 3000., 3000., 3000.,\n",
       "        3000., 3000., 3000., 3000., 3000., 3000., 3000., 3000., 3000.,\n",
       "        3000., 3000., 3000., 3000., 3000., 3000., 3000., 3000., 3000.,\n",
       "        3000., 3000., 3000., 3000., 3000., 3000., 3000., 3000., 3000.,\n",
       "        3000., 3000., 3000., 3000., 3000., 3000., 3000., 3000., 3000.,\n",
       "        3000., 3000., 3000., 3000., 3000., 3000., 3000., 3000., 3000.,\n",
       "        3000., 3000., 3000., 3000., 3000., 3000., 3000., 3000., 3000.,\n",
       "        3000., 3000., 3000., 3000., 3000., 3000., 3000., 3000., 3000.,\n",
       "        3000., 3000., 3000., 3000., 3000., 3000., 3000., 3000., 3000.,\n",
       "        3000., 3000., 3000., 3000., 3000., 3000., 3000., 3000., 3000.,\n",
       "        3000., 3000., 3000., 3000., 3000., 3000., 3000., 3000.]))"
      ]
     },
     "execution_count": 24,
     "metadata": {},
     "output_type": "execute_result"
    }
   ],
   "source": [
    "strategies[1], test_num_inpute(strategies[1])"
   ]
  },
  {
   "cell_type": "code",
   "execution_count": 25,
   "id": "c985d3ee",
   "metadata": {},
   "outputs": [
    {
     "data": {
      "text/plain": [
       "('most_frequent',\n",
       " array([0., 0., 0., 0., 0., 0., 0., 0., 0., 0., 0., 0., 0., 0., 0., 0., 0.,\n",
       "        0., 0., 0., 0., 0., 0., 0., 0., 0., 0., 0., 0., 0., 0., 0., 0., 0.,\n",
       "        0., 0., 0., 0., 0., 0., 0., 0., 0., 0., 0., 0., 0., 0., 0., 0., 0.,\n",
       "        0., 0., 0., 0., 0., 0., 0., 0., 0., 0., 0., 0., 0., 0., 0., 0., 0.,\n",
       "        0., 0., 0., 0., 0., 0., 0., 0., 0., 0., 0., 0., 0., 0., 0., 0., 0.,\n",
       "        0., 0., 0., 0., 0., 0., 0., 0., 0., 0., 0., 0., 0., 0., 0., 0., 0.,\n",
       "        0., 0., 0., 0., 0., 0., 0., 0., 0., 0., 0., 0., 0., 0., 0., 0., 0.,\n",
       "        0., 0., 0., 0., 0., 0., 0., 0., 0., 0., 0., 0., 0., 0., 0., 0., 0.,\n",
       "        0., 0., 0., 0., 0., 0., 0., 0., 0., 0., 0., 0., 0., 0., 0., 0., 0.,\n",
       "        0., 0., 0., 0., 0., 0., 0., 0., 0., 0., 0., 0., 0., 0., 0., 0., 0.,\n",
       "        0., 0., 0., 0., 0., 0., 0., 0., 0., 0., 0., 0., 0., 0., 0., 0., 0.,\n",
       "        0., 0., 0., 0., 0., 0., 0., 0., 0., 0., 0., 0., 0., 0., 0., 0., 0.,\n",
       "        0., 0., 0., 0., 0., 0., 0., 0., 0., 0., 0., 0., 0., 0., 0., 0., 0.,\n",
       "        0., 0., 0., 0., 0., 0., 0., 0., 0., 0., 0., 0., 0., 0., 0., 0., 0.,\n",
       "        0., 0., 0., 0., 0., 0., 0., 0., 0., 0., 0., 0., 0., 0., 0., 0., 0.,\n",
       "        0., 0., 0., 0., 0., 0., 0., 0., 0., 0., 0., 0., 0., 0., 0., 0., 0.,\n",
       "        0., 0., 0., 0., 0., 0., 0., 0., 0., 0., 0., 0., 0., 0., 0., 0., 0.,\n",
       "        0., 0., 0., 0., 0., 0., 0., 0., 0., 0., 0., 0., 0., 0., 0., 0., 0.,\n",
       "        0., 0., 0., 0., 0., 0., 0., 0., 0., 0., 0., 0., 0., 0., 0., 0., 0.,\n",
       "        0., 0., 0., 0., 0., 0., 0., 0., 0., 0., 0., 0., 0., 0., 0., 0., 0.,\n",
       "        0., 0., 0., 0., 0., 0., 0., 0., 0., 0., 0., 0., 0., 0., 0., 0., 0.,\n",
       "        0., 0., 0., 0., 0., 0., 0., 0., 0., 0., 0., 0., 0., 0., 0., 0., 0.,\n",
       "        0., 0., 0.]))"
      ]
     },
     "execution_count": 25,
     "metadata": {},
     "output_type": "execute_result"
    }
   ],
   "source": [
    "strategies[2], test_num_inpute(strategies[2])"
   ]
  },
  {
   "cell_type": "code",
   "execution_count": 26,
   "id": "1369472c",
   "metadata": {},
   "outputs": [],
   "source": [
    "# Более сложная функция, которая позволяет задавать колонку и вид импьютации\n",
    "def test_num_impute_col(dataset, column, strategy_param):\n",
    "    temp_data = dataset[[column]]\n",
    "    \n",
    "    indicator = MissingIndicator()\n",
    "    mask_missing_values_only = indicator.fit_transform(temp_data)\n",
    "    imp_num = SimpleImputer(strategy=strategy_param)\n",
    "    data_num_imp = imp_num.fit_transform(temp_data)\n",
    "    \n",
    "    filled_data = data_num_imp[mask_missing_values_only]\n",
    "    \n",
    "    return column, strategy_param, filled_data.size, filled_data[0], filled_data[filled_data.size-1]"
   ]
  },
  {
   "cell_type": "code",
   "execution_count": 27,
   "id": "bdc9aeaf",
   "metadata": {},
   "outputs": [
    {
     "data": {
      "text/html": [
       "<div>\n",
       "<style scoped>\n",
       "    .dataframe tbody tr th:only-of-type {\n",
       "        vertical-align: middle;\n",
       "    }\n",
       "\n",
       "    .dataframe tbody tr th {\n",
       "        vertical-align: top;\n",
       "    }\n",
       "\n",
       "    .dataframe thead th {\n",
       "        text-align: right;\n",
       "    }\n",
       "</style>\n",
       "<table border=\"1\" class=\"dataframe\">\n",
       "  <thead>\n",
       "    <tr style=\"text-align: right;\">\n",
       "      <th></th>\n",
       "      <th>time_to_work</th>\n",
       "    </tr>\n",
       "  </thead>\n",
       "  <tbody>\n",
       "    <tr>\n",
       "      <th>count</th>\n",
       "      <td>783.000000</td>\n",
       "    </tr>\n",
       "    <tr>\n",
       "      <th>mean</th>\n",
       "      <td>25.997446</td>\n",
       "    </tr>\n",
       "    <tr>\n",
       "      <th>std</th>\n",
       "      <td>22.290973</td>\n",
       "    </tr>\n",
       "    <tr>\n",
       "      <th>min</th>\n",
       "      <td>1.000000</td>\n",
       "    </tr>\n",
       "    <tr>\n",
       "      <th>25%</th>\n",
       "      <td>10.000000</td>\n",
       "    </tr>\n",
       "    <tr>\n",
       "      <th>50%</th>\n",
       "      <td>20.000000</td>\n",
       "    </tr>\n",
       "    <tr>\n",
       "      <th>75%</th>\n",
       "      <td>30.000000</td>\n",
       "    </tr>\n",
       "    <tr>\n",
       "      <th>max</th>\n",
       "      <td>163.000000</td>\n",
       "    </tr>\n",
       "  </tbody>\n",
       "</table>\n",
       "</div>"
      ],
      "text/plain": [
       "       time_to_work\n",
       "count    783.000000\n",
       "mean      25.997446\n",
       "std       22.290973\n",
       "min        1.000000\n",
       "25%       10.000000\n",
       "50%       20.000000\n",
       "75%       30.000000\n",
       "max      163.000000"
      ]
     },
     "execution_count": 27,
     "metadata": {},
     "output_type": "execute_result"
    }
   ],
   "source": [
    "data[['time_to_work']].describe()"
   ]
  },
  {
   "cell_type": "code",
   "execution_count": 28,
   "id": "0ea6ff8d",
   "metadata": {},
   "outputs": [
    {
     "data": {
      "text/plain": [
       "('time_to_work', 'mean', 1217, 25.997445721583652, 25.997445721583652)"
      ]
     },
     "execution_count": 28,
     "metadata": {},
     "output_type": "execute_result"
    }
   ],
   "source": [
    "test_num_impute_col(data, 'time_to_work', strategies[0])"
   ]
  },
  {
   "cell_type": "code",
   "execution_count": 29,
   "id": "1020b738",
   "metadata": {},
   "outputs": [
    {
     "data": {
      "text/plain": [
       "('time_to_work', 'median', 1217, 20.0, 20.0)"
      ]
     },
     "execution_count": 29,
     "metadata": {},
     "output_type": "execute_result"
    }
   ],
   "source": [
    "test_num_impute_col(data, 'time_to_work', strategies[1])"
   ]
  },
  {
   "cell_type": "code",
   "execution_count": 30,
   "id": "5e682286",
   "metadata": {},
   "outputs": [
    {
     "data": {
      "text/plain": [
       "('time_to_work', 'most_frequent', 1217, 15.0, 15.0)"
      ]
     },
     "execution_count": 30,
     "metadata": {},
     "output_type": "execute_result"
    }
   ],
   "source": [
    "test_num_impute_col(data, 'time_to_work', strategies[2])"
   ]
  },
  {
   "cell_type": "markdown",
   "id": "2abfd23b",
   "metadata": {},
   "source": [
    "## Обработка пропусков в категориальных данных\n"
   ]
  },
  {
   "cell_type": "code",
   "execution_count": 31,
   "id": "6bf2d359",
   "metadata": {},
   "outputs": [
    {
     "data": {
      "text/html": [
       "<div>\n",
       "<style scoped>\n",
       "    .dataframe tbody tr th:only-of-type {\n",
       "        vertical-align: middle;\n",
       "    }\n",
       "\n",
       "    .dataframe tbody tr th {\n",
       "        vertical-align: top;\n",
       "    }\n",
       "\n",
       "    .dataframe thead th {\n",
       "        text-align: right;\n",
       "    }\n",
       "</style>\n",
       "<table border=\"1\" class=\"dataframe\">\n",
       "  <thead>\n",
       "    <tr style=\"text-align: right;\">\n",
       "      <th></th>\n",
       "      <th>income</th>\n",
       "      <th>employment</th>\n",
       "      <th>hrs_work</th>\n",
       "      <th>race</th>\n",
       "      <th>age</th>\n",
       "      <th>gender</th>\n",
       "      <th>citizen</th>\n",
       "      <th>time_to_work</th>\n",
       "      <th>lang</th>\n",
       "      <th>married</th>\n",
       "      <th>edu</th>\n",
       "      <th>disability</th>\n",
       "      <th>birth_qrtr</th>\n",
       "    </tr>\n",
       "  </thead>\n",
       "  <tbody>\n",
       "    <tr>\n",
       "      <th>37</th>\n",
       "      <td>15000.0</td>\n",
       "      <td>employed</td>\n",
       "      <td>8.0</td>\n",
       "      <td>white</td>\n",
       "      <td>20</td>\n",
       "      <td>female</td>\n",
       "      <td>yes</td>\n",
       "      <td>NaN</td>\n",
       "      <td>english</td>\n",
       "      <td>no</td>\n",
       "      <td>hs or lower</td>\n",
       "      <td>no</td>\n",
       "      <td>oct thru dec</td>\n",
       "    </tr>\n",
       "    <tr>\n",
       "      <th>38</th>\n",
       "      <td>31000.0</td>\n",
       "      <td>employed</td>\n",
       "      <td>40.0</td>\n",
       "      <td>white</td>\n",
       "      <td>32</td>\n",
       "      <td>female</td>\n",
       "      <td>yes</td>\n",
       "      <td>35.0</td>\n",
       "      <td>english</td>\n",
       "      <td>yes</td>\n",
       "      <td>hs or lower</td>\n",
       "      <td>no</td>\n",
       "      <td>oct thru dec</td>\n",
       "    </tr>\n",
       "    <tr>\n",
       "      <th>39</th>\n",
       "      <td>NaN</td>\n",
       "      <td>NaN</td>\n",
       "      <td>NaN</td>\n",
       "      <td>black</td>\n",
       "      <td>3</td>\n",
       "      <td>female</td>\n",
       "      <td>yes</td>\n",
       "      <td>NaN</td>\n",
       "      <td>NaN</td>\n",
       "      <td>no</td>\n",
       "      <td>hs or lower</td>\n",
       "      <td>no</td>\n",
       "      <td>apr thru jun</td>\n",
       "    </tr>\n",
       "    <tr>\n",
       "      <th>40</th>\n",
       "      <td>0.0</td>\n",
       "      <td>not in labor force</td>\n",
       "      <td>NaN</td>\n",
       "      <td>white</td>\n",
       "      <td>63</td>\n",
       "      <td>female</td>\n",
       "      <td>yes</td>\n",
       "      <td>NaN</td>\n",
       "      <td>english</td>\n",
       "      <td>yes</td>\n",
       "      <td>hs or lower</td>\n",
       "      <td>no</td>\n",
       "      <td>oct thru dec</td>\n",
       "    </tr>\n",
       "    <tr>\n",
       "      <th>41</th>\n",
       "      <td>19000.0</td>\n",
       "      <td>employed</td>\n",
       "      <td>70.0</td>\n",
       "      <td>white</td>\n",
       "      <td>28</td>\n",
       "      <td>male</td>\n",
       "      <td>yes</td>\n",
       "      <td>3.0</td>\n",
       "      <td>other</td>\n",
       "      <td>yes</td>\n",
       "      <td>hs or lower</td>\n",
       "      <td>no</td>\n",
       "      <td>jan thru mar</td>\n",
       "    </tr>\n",
       "  </tbody>\n",
       "</table>\n",
       "</div>"
      ],
      "text/plain": [
       "     income          employment  hrs_work   race  age  gender citizen  \\\n",
       "37  15000.0            employed       8.0  white   20  female     yes   \n",
       "38  31000.0            employed      40.0  white   32  female     yes   \n",
       "39      NaN                 NaN       NaN  black    3  female     yes   \n",
       "40      0.0  not in labor force       NaN  white   63  female     yes   \n",
       "41  19000.0            employed      70.0  white   28    male     yes   \n",
       "\n",
       "    time_to_work     lang married          edu disability    birth_qrtr  \n",
       "37           NaN  english      no  hs or lower         no  oct thru dec  \n",
       "38          35.0  english     yes  hs or lower         no  oct thru dec  \n",
       "39           NaN      NaN      no  hs or lower         no  apr thru jun  \n",
       "40           NaN  english     yes  hs or lower         no  oct thru dec  \n",
       "41           3.0    other     yes  hs or lower         no  jan thru mar  "
      ]
     },
     "execution_count": 31,
     "metadata": {},
     "output_type": "execute_result"
    }
   ],
   "source": [
    "# напр, виден пропуск в столбцах \"employment\",\"lang\"\n",
    "data[37:42]"
   ]
  },
  {
   "cell_type": "code",
   "execution_count": 32,
   "id": "2c8c2cc5",
   "metadata": {},
   "outputs": [
    {
     "name": "stdout",
     "output_type": "stream",
     "text": [
      "Колонка employment. Тип данных object. Количество пустых значений 395, 19.75%.\n",
      "Колонка lang. Тип данных object. Количество пустых значений 105, 5.25%.\n",
      "Колонка edu. Тип данных object. Количество пустых значений 58, 2.9%.\n"
     ]
    }
   ],
   "source": [
    "# Выберем категориальные колонки с пропущенными значениями\n",
    "# Цикл по колонкам датасета\n",
    "cat_cols = []\n",
    "for col in data.columns:\n",
    "    # Количество пустых значений \n",
    "    null_cnt = data[data[col].isna()].shape[0]\n",
    "    dt = str(data[col].dtype)\n",
    "    if null_cnt>0 and (dt=='object'):\n",
    "        cat_cols.append(col)\n",
    "        perc = round((null_cnt / data.shape[0])*100.0, 2)\n",
    "        print('Колонка {}. Тип данных {}. Количество пустых значений {}, {}%.'.format(col, dt, null_cnt, perc))"
   ]
  },
  {
   "cell_type": "code",
   "execution_count": 33,
   "id": "633c1f71",
   "metadata": {},
   "outputs": [
    {
     "data": {
      "text/html": [
       "<div>\n",
       "<style scoped>\n",
       "    .dataframe tbody tr th:only-of-type {\n",
       "        vertical-align: middle;\n",
       "    }\n",
       "\n",
       "    .dataframe tbody tr th {\n",
       "        vertical-align: top;\n",
       "    }\n",
       "\n",
       "    .dataframe thead th {\n",
       "        text-align: right;\n",
       "    }\n",
       "</style>\n",
       "<table border=\"1\" class=\"dataframe\">\n",
       "  <thead>\n",
       "    <tr style=\"text-align: right;\">\n",
       "      <th></th>\n",
       "      <th>employment</th>\n",
       "    </tr>\n",
       "  </thead>\n",
       "  <tbody>\n",
       "    <tr>\n",
       "      <th>0</th>\n",
       "      <td>not in labor force</td>\n",
       "    </tr>\n",
       "    <tr>\n",
       "      <th>1</th>\n",
       "      <td>not in labor force</td>\n",
       "    </tr>\n",
       "    <tr>\n",
       "      <th>2</th>\n",
       "      <td>NaN</td>\n",
       "    </tr>\n",
       "    <tr>\n",
       "      <th>3</th>\n",
       "      <td>not in labor force</td>\n",
       "    </tr>\n",
       "    <tr>\n",
       "      <th>4</th>\n",
       "      <td>not in labor force</td>\n",
       "    </tr>\n",
       "  </tbody>\n",
       "</table>\n",
       "</div>"
      ],
      "text/plain": [
       "           employment\n",
       "0  not in labor force\n",
       "1  not in labor force\n",
       "2                 NaN\n",
       "3  not in labor force\n",
       "4  not in labor force"
      ]
     },
     "execution_count": 33,
     "metadata": {},
     "output_type": "execute_result"
    }
   ],
   "source": [
    "cat_temp_data = data[['employment']]\n",
    "cat_temp_data.head()"
   ]
  },
  {
   "cell_type": "code",
   "execution_count": 34,
   "id": "202cfae5",
   "metadata": {},
   "outputs": [
    {
     "data": {
      "text/plain": [
       "array(['not in labor force', nan, 'employed', 'unemployed'], dtype=object)"
      ]
     },
     "execution_count": 34,
     "metadata": {},
     "output_type": "execute_result"
    }
   ],
   "source": [
    "cat_temp_data['employment'].unique()"
   ]
  },
  {
   "cell_type": "code",
   "execution_count": 35,
   "id": "eaafd785",
   "metadata": {},
   "outputs": [
    {
     "data": {
      "text/plain": [
       "(395, 1)"
      ]
     },
     "execution_count": 35,
     "metadata": {},
     "output_type": "execute_result"
    }
   ],
   "source": [
    "cat_temp_data[cat_temp_data['employment'].isnull()].shape"
   ]
  },
  {
   "cell_type": "code",
   "execution_count": 36,
   "id": "c596bde4",
   "metadata": {},
   "outputs": [
    {
     "data": {
      "text/plain": [
       "array([['not in labor force'],\n",
       "       ['not in labor force'],\n",
       "       ['employed'],\n",
       "       ...,\n",
       "       ['employed'],\n",
       "       ['employed'],\n",
       "       ['unemployed']], dtype=object)"
      ]
     },
     "execution_count": 36,
     "metadata": {},
     "output_type": "execute_result"
    }
   ],
   "source": [
    "# Импьютация наиболее частыми значениями\n",
    "imp2 = SimpleImputer(missing_values=np.nan, strategy='most_frequent')\n",
    "data_imp2 = imp2.fit_transform(cat_temp_data)\n",
    "data_imp2"
   ]
  },
  {
   "cell_type": "code",
   "execution_count": 37,
   "id": "343aaa91",
   "metadata": {},
   "outputs": [
    {
     "data": {
      "text/plain": [
       "array(['employed', 'not in labor force', 'unemployed'], dtype=object)"
      ]
     },
     "execution_count": 37,
     "metadata": {},
     "output_type": "execute_result"
    }
   ],
   "source": [
    "# Пустые значения отсутствуют\n",
    "np.unique(data_imp2)"
   ]
  },
  {
   "cell_type": "markdown",
   "id": "14ba7714",
   "metadata": {},
   "source": [
    "## Масштабирование данных\n"
   ]
  },
  {
   "cell_type": "code",
   "execution_count": null,
   "id": "f3c3004c",
   "metadata": {},
   "outputs": [],
   "source": [
    "from sklearn.preprocessing import MinMaxScaler, StandardScaler, Normalizer"
   ]
  },
  {
   "cell_type": "markdown",
   "id": "04bf3370",
   "metadata": {},
   "source": [
    "### MinMax масштабирование"
   ]
  },
  {
   "cell_type": "code",
   "execution_count": null,
   "id": "798eab1d",
   "metadata": {},
   "outputs": [],
   "source": [
    "sc1 = MinMaxScaler()\n",
    "sc1_data = sc1.fit_transform(data[['hrs_work']])\n",
    "\n",
    "plt.hist(data['hrs_work'], 50)\n",
    "plt.show()"
   ]
  },
  {
   "cell_type": "code",
   "execution_count": null,
   "id": "6cbfaf62",
   "metadata": {},
   "outputs": [],
   "source": [
    "plt.hist(sc1_data, 50)\n",
    "plt.show()"
   ]
  },
  {
   "cell_type": "markdown",
   "id": "5f027cd2",
   "metadata": {},
   "source": [
    "### Масштабирование данных на основе Z-оценки - StandardScaler"
   ]
  },
  {
   "cell_type": "code",
   "execution_count": null,
   "id": "725aa44d",
   "metadata": {},
   "outputs": [],
   "source": [
    "sc2 = StandardScaler()\n",
    "sc2_data = sc2.fit_transform(data[['hrs_work']])\n",
    "\n",
    "plt.hist(sc2_data, 50)\n",
    "plt.show()"
   ]
  },
  {
   "cell_type": "code",
   "execution_count": null,
   "id": "d29e8c78",
   "metadata": {},
   "outputs": [],
   "source": [
    "from sklearn.preprocessing import LabelEncoder"
   ]
  },
  {
   "cell_type": "code",
   "execution_count": 42,
   "id": "f44f15bc",
   "metadata": {},
   "outputs": [
    {
     "name": "stderr",
     "output_type": "stream",
     "text": [
      "C:\\Users\\dasha\\AppData\\Local\\Temp\\ipykernel_19488\\1874722391.py:4: SettingWithCopyWarning: \n",
      "A value is trying to be set on a copy of a slice from a DataFrame.\n",
      "Try using .loc[row_indexer,col_indexer] = value instead\n",
      "\n",
      "See the caveats in the documentation: https://pandas.pydata.org/pandas-docs/stable/user_guide/indexing.html#returning-a-view-versus-a-copy\n",
      "  cat_temp_data['employment_encoded'] = label_encoder.fit_transform(cat_temp_data['employment'])\n"
     ]
    },
    {
     "data": {
      "text/html": [
       "<div>\n",
       "<style scoped>\n",
       "    .dataframe tbody tr th:only-of-type {\n",
       "        vertical-align: middle;\n",
       "    }\n",
       "\n",
       "    .dataframe tbody tr th {\n",
       "        vertical-align: top;\n",
       "    }\n",
       "\n",
       "    .dataframe thead th {\n",
       "        text-align: right;\n",
       "    }\n",
       "</style>\n",
       "<table border=\"1\" class=\"dataframe\">\n",
       "  <thead>\n",
       "    <tr style=\"text-align: right;\">\n",
       "      <th></th>\n",
       "      <th>employment</th>\n",
       "      <th>employment_encoded</th>\n",
       "    </tr>\n",
       "  </thead>\n",
       "  <tbody>\n",
       "    <tr>\n",
       "      <th>0</th>\n",
       "      <td>not in labor force</td>\n",
       "      <td>1</td>\n",
       "    </tr>\n",
       "    <tr>\n",
       "      <th>1</th>\n",
       "      <td>not in labor force</td>\n",
       "      <td>1</td>\n",
       "    </tr>\n",
       "    <tr>\n",
       "      <th>2</th>\n",
       "      <td>NaN</td>\n",
       "      <td>3</td>\n",
       "    </tr>\n",
       "    <tr>\n",
       "      <th>3</th>\n",
       "      <td>not in labor force</td>\n",
       "      <td>1</td>\n",
       "    </tr>\n",
       "    <tr>\n",
       "      <th>4</th>\n",
       "      <td>not in labor force</td>\n",
       "      <td>1</td>\n",
       "    </tr>\n",
       "    <tr>\n",
       "      <th>...</th>\n",
       "      <td>...</td>\n",
       "      <td>...</td>\n",
       "    </tr>\n",
       "    <tr>\n",
       "      <th>1995</th>\n",
       "      <td>not in labor force</td>\n",
       "      <td>1</td>\n",
       "    </tr>\n",
       "    <tr>\n",
       "      <th>1996</th>\n",
       "      <td>not in labor force</td>\n",
       "      <td>1</td>\n",
       "    </tr>\n",
       "    <tr>\n",
       "      <th>1997</th>\n",
       "      <td>employed</td>\n",
       "      <td>0</td>\n",
       "    </tr>\n",
       "    <tr>\n",
       "      <th>1998</th>\n",
       "      <td>employed</td>\n",
       "      <td>0</td>\n",
       "    </tr>\n",
       "    <tr>\n",
       "      <th>1999</th>\n",
       "      <td>unemployed</td>\n",
       "      <td>2</td>\n",
       "    </tr>\n",
       "  </tbody>\n",
       "</table>\n",
       "<p>2000 rows × 2 columns</p>\n",
       "</div>"
      ],
      "text/plain": [
       "              employment  employment_encoded\n",
       "0     not in labor force                   1\n",
       "1     not in labor force                   1\n",
       "2                    NaN                   3\n",
       "3     not in labor force                   1\n",
       "4     not in labor force                   1\n",
       "...                  ...                 ...\n",
       "1995  not in labor force                   1\n",
       "1996  not in labor force                   1\n",
       "1997            employed                   0\n",
       "1998            employed                   0\n",
       "1999          unemployed                   2\n",
       "\n",
       "[2000 rows x 2 columns]"
      ]
     },
     "execution_count": 42,
     "metadata": {},
     "output_type": "execute_result"
    }
   ],
   "source": [
    "label_encoder = LabelEncoder()\n",
    "\n",
    "# Применение LabelEncoder к категориальному признаку 'employment'\n",
    "cat_temp_data['employment_encoded'] = label_encoder.fit_transform(cat_temp_data['employment'])\n",
    "\n",
    "cat_temp_data[['employment', 'employment_encoded']]"
   ]
  },
  {
   "cell_type": "code",
   "execution_count": null,
   "id": "1eb299d5",
   "metadata": {},
   "outputs": [],
   "source": []
  }
 ],
 "metadata": {
  "kernelspec": {
   "display_name": "Python 3 (ipykernel)",
   "language": "python",
   "name": "python3"
  },
  "language_info": {
   "codemirror_mode": {
    "name": "ipython",
    "version": 3
   },
   "file_extension": ".py",
   "mimetype": "text/x-python",
   "name": "python",
   "nbconvert_exporter": "python",
   "pygments_lexer": "ipython3",
   "version": "3.11.5"
  }
 },
 "nbformat": 4,
 "nbformat_minor": 5
}
